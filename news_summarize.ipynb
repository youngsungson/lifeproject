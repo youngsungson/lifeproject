{
 "cells": [
  {
   "cell_type": "markdown",
   "metadata": {},
   "source": [
    "# 7장 네이버 뉴스 요약 프로젝트 "
   ]
  },
  {
   "cell_type": "markdown",
   "metadata": {},
   "source": [
    "## 7.2 사전 준비"
   ]
  },
  {
   "cell_type": "markdown",
   "metadata": {},
   "source": [
    "- !pip install gensim BeautifulSoup4 lxml requests"
   ]
  },
  {
   "cell_type": "markdown",
   "metadata": {},
   "source": [
    "## 7.3 사전 지식 쌓기"
   ]
  },
  {
   "cell_type": "markdown",
   "metadata": {},
   "source": [
    "## 7.3.1 User-Agent 확인하기\n",
    "- www.useragentstring.com"
   ]
  },
  {
   "cell_type": "code",
   "execution_count": null,
   "metadata": {},
   "outputs": [],
   "source": [
    "# 해당 분야 상위 뉴스 HTML 가져오기\n",
    "headers = {'User-Agent' : '<복사한 user-agent 값 대체>'} # ex. 'User-Agent' : 'Mozilla/5.0 (Windows NT 10.0; Win64; x64) ...생략...'\n",
    "\n",
    "res = requests.get(news_link, headers = headers)\n",
    "print(res.text)"
   ]
  },
  {
   "cell_type": "markdown",
   "metadata": {},
   "source": [
    "## 7.3.2 네이버 뉴스 구조 이해하기–섹션별 접속 주소(URL) 확인"
   ]
  },
  {
   "cell_type": "markdown",
   "metadata": {},
   "source": [
    "#### 정치 섹션 url\n",
    "- https://news.naver.com/main/list.nhn?mode=LSD&mid=sec&sid1=100\n",
    "\n",
    "#### 경제 섹션 url\n",
    "- https://news.naver.com/main/list.nhn?mode=LSD&mid=sec&sid1=101\n",
    "\n",
    "#### 사회 섹션 url\n",
    "- https://news.naver.com/main/list.nhn?mode=LSD&mid=sec&sid1=102"
   ]
  },
  {
   "cell_type": "code",
   "execution_count": null,
   "metadata": {},
   "outputs": [],
   "source": [
    "for sid in ['100', '101', '102']:\n",
    "    # 해당 분야 상위 뉴스 목록 주소\n",
    "    sec_url = \"https://news.naver.com/main/list.nhn?mode=LSD&mid=sec\" \\\n",
    "                + \"&sid1=\" \\\n",
    "                + sid \\\n",
    "             \n",
    "    print(\"section url : \", sec_url)"
   ]
  },
  {
   "cell_type": "markdown",
   "metadata": {},
   "source": [
    "## 7.3.3 네이버 뉴스 구조 이해하기–상위 랭킹 세개의 뉴스 메타 정보 확인"
   ]
  },
  {
   "cell_type": "code",
   "execution_count": null,
   "metadata": {},
   "outputs": [],
   "source": [
    "import requests\n",
    "from bs4 import BeautifulSoup\n",
    "import bs4.element\n",
    "import datetime\n",
    "\n",
    "# BeautifulSoup 객체 생성\n",
    "def get_soup_obj(url):\n",
    "    headers = {'User-Agent' : '<복사한 user-agent 값 대체>'}\n",
    "    res = requests.get(url, headers = headers)\n",
    "    soup = BeautifulSoup(res.text,'lxml')\n",
    "\n",
    "    return soup\n",
    "\n",
    "default_img = \"https://search.naver.com/search.naver?where=image&sm=tab_jum&query=naver#\"\n",
    "for sid in ['100']:#, '101', '102']:\n",
    "    # 해당 분야 상위 뉴스 목록 주소\n",
    "    sec_url = \"https://news.naver.com/main/list.nhn?mode=LSD&mid=sec\" \\\n",
    "              + \"&sid1=\" \\\n",
    "              + sid\n",
    "    print(\"section url : \", sec_url)\n",
    "\n",
    "    # 해당 분야 상위 뉴스 HTML 가져오기\n",
    "    soup = get_soup_obj(sec_url)\n",
    "\n",
    "    # 해당 분야 상위 뉴스 3개 가져오기\n",
    "    lis3 = soup.find('ul', class_='type06_headline').find_all(\"li\", limit=3)\n",
    "    for li in lis3:\n",
    "        # title : 뉴스 제목, news_url : 뉴스 URL, image_url : 이미지 URL\n",
    "        news_info = {\n",
    "            \"title\" : li.img.attrs.get('alt') if li.img else li.a.text.replace(\"\\n\", \"\").replace(\"\\t\",\"\").replace(\"\\r\",\"\") ,\n",
    "            \"date\" : li.find(class_=\"date\").text,\n",
    "            \"news_url\" : li.a.attrs.get('href'),\n",
    "            \"image_url\" : li.img.attrs.get('src') if li.img else default_img\n",
    "        }\n",
    "        print(news_info)"
   ]
  },
  {
   "cell_type": "markdown",
   "metadata": {},
   "source": [
    "## 7.3.4 gensim으로 뉴스 요약하기\n",
    "-  gensim 라이브러리 설명 : https://radimrehurek.com/gensim\n",
    "- summarize(): https://radimrehurek.com/gensim_3.8.3/summarization/summariser.html"
   ]
  },
  {
   "cell_type": "markdown",
   "metadata": {},
   "source": [
    "# 7.4 구현"
   ]
  },
  {
   "cell_type": "markdown",
   "metadata": {},
   "source": [
    "## Step1) 네이버 뉴스 크롤링하기"
   ]
  },
  {
   "cell_type": "code",
   "execution_count": null,
   "metadata": {},
   "outputs": [],
   "source": [
    "import requests\n",
    "from bs4 import BeautifulSoup\n",
    "import bs4.element\n",
    "import datetime\n",
    "\n",
    "# BeautifulSoup 객체 생성\n",
    "def get_soup_obj(url):\n",
    "    headers = {'User-Agent' : '<복사한 user-agent 값 대체>'}\n",
    "    res = requests.get(url, headers = headers)\n",
    "    soup = BeautifulSoup(res.text,'lxml')\n",
    "\n",
    "    return soup\n",
    "\n",
    "\n",
    "# 뉴스의 기본 정보 가져오기\n",
    "def get_top3_news_info(sec, sid):\n",
    "    # 임시 이미지\n",
    "    default_img = \"https://search.naver.com/search.naver?where=image&sm=tab_jum&query=naver#\"\n",
    "\n",
    "    # 해당 분야 상위 뉴스 목록 주소\n",
    "    sec_url = \"https://news.naver.com/main/list.nhn?mode=LSD&mid=sec\" \\\n",
    "              + \"&sid1=\" \\\n",
    "              + sid\n",
    "    print(\"section url : \", sec_url)\n",
    "\n",
    "    # 해당 분야 상위 뉴스 HTML 가져오기\n",
    "    soup = get_soup_obj(sec_url)\n",
    "\n",
    "    # 해당 분야 상위 뉴스 3개 가져오기\n",
    "    news_list3 = []\n",
    "    lis3 = soup.find('ul', class_='type06_headline').find_all(\"li\", limit=3)\n",
    "    for li in lis3:\n",
    "        # title : 뉴스 제목, news_url : 뉴스 URL, image_url : 이미지 URL\n",
    "        news_info = {\n",
    "            \"title\" : li.img.attrs.get('alt') if li.img else li.a.text.replace(\"\\n\", \"\").replace(\"\\t\",\"\").replace(\"\\r\",\"\") ,\n",
    "            \"date\" : li.find(class_=\"date\").text,\n",
    "            \"news_url\" : li.a.attrs.get('href'),\n",
    "            \"image_url\" : li.img.attrs.get('src') if li.img else default_img\n",
    "        }\n",
    "        news_list3.append(news_info)\n",
    "\n",
    "    return news_list3\n",
    "\n",
    "# 뉴스 본문 가져오기\n",
    "def get_news_contents(url):\n",
    "    soup = get_soup_obj(url)\n",
    "    body = soup.find('div', class_=\"_article_body_contents\")\n",
    "\n",
    "    news_contents = ''\n",
    "    for content in body:\n",
    "        if type(content) is bs4.element.NavigableString and len(content) > 50:\n",
    "            # content.strip() : whitepace 제거 (참고 : https://www.tutorialspoint.com/python3/string_strip.htm)\n",
    "            # 뉴스 요약을 위하여 '.' 마침표 뒤에 한칸을 띄워 문장을 구분하도록 함\n",
    "            news_contents += content.strip() + ' '\n",
    "\n",
    "    return news_contents\n",
    "\n",
    "\n",
    "# '정치', '경제', '사회' 분야의 상위 3개 뉴스 크롤링\n",
    "def get_naver_news_top3():\n",
    "    # 뉴스 결과를 담아낼 dictionary\n",
    "    news_dic = dict()\n",
    "\n",
    "    # sections : '정치', '경제', '사회'\n",
    "    sections = [\"pol\", \"eco\",\"soc\"]\n",
    "    # section_ids : URL에 사용될 뉴스 각 부문 ID\n",
    "    section_ids = [\"100\", \"101\",\"102\"]\n",
    "\n",
    "    for sec, sid in zip(sections, section_ids):\n",
    "        # 뉴스의 기본 정보 가져오기\n",
    "        news_info = get_top3_news_info(sec, sid)\n",
    "        #print(news_info)\n",
    "        for news in news_info:\n",
    "            # 뉴스 본문 가져오기\n",
    "            news_url = news['news_url']\n",
    "            news_contents = get_news_contents(news_url)\n",
    "\n",
    "            # 뉴스 정보를 저장하는 dictionary를 구성\n",
    "            news['news_contents'] = news_contents\n",
    "\n",
    "        news_dic[sec] = news_info\n",
    "\n",
    "    return news_dic\n",
    "\n",
    "# 함수 호출 - '정치', '경제', '사회' 분야의 상위 3개 뉴스 크롤링\n",
    "news_dic = get_naver_news_top3()\n",
    "# 경제의 첫번째 결과 확인하기\n",
    "news_dic['eco'][0]"
   ]
  },
  {
   "cell_type": "markdown",
   "metadata": {},
   "source": [
    "## Step2) 뉴스 요약하기"
   ]
  },
  {
   "cell_type": "code",
   "execution_count": null,
   "metadata": {},
   "outputs": [],
   "source": [
    "from gensim.summarization.summarizer import summarize\n",
    "\n",
    "# 섹션 지정\n",
    "my_section = 'eco'\n",
    "news_list3 = news_dic[my_section]\n",
    "# 뉴스 요약하기\n",
    "for news_info in news_list3:\n",
    "    # 뉴스 본문이 10 문장 이하일 경우 결과가 반환되지 않음.\n",
    "    # 이때는 요약하지 않고 본문에서 앞 3문장을 사용함.\n",
    "    try:\n",
    "        snews_contents = summarize(news_info['news_contents'], word_count=20)\n",
    "    except:\n",
    "        snews_contents = None\n",
    "\n",
    "    if not snews_contents:\n",
    "        news_sentences = news_info['news_contents'].split('.')\n",
    "\n",
    "        if len(news_sentences) > 3:\n",
    "            snews_contents = '.'.join(news_sentences[:3])\n",
    "        else:\n",
    "            snews_contents = '.'.join(news_sentences)\n",
    "\n",
    "    news_info['snews_contents'] = snews_contents\n",
    "\n",
    "## 요약 결과 - 첫번째 뉴스\n",
    "print(\"==== 첫번째 뉴스 원문 ====\")\n",
    "print(news_list3[0]['news_contents'])\n",
    "print(\"\\n==== 첫번째 뉴스 요약문 ====\")\n",
    "print(news_list3[0]['snews_contents'])\n",
    "\n",
    "## 요약 결과 - 두번째 뉴스\n",
    "print(\"==== 두번째 뉴스 원문 ====\")\n",
    "print(news_list3[1]['news_contents'])\n",
    "print(\"\\n==== 두번째 뉴스 요약문 ====\")\n",
    "print(news_list3[1]['snews_contents'])"
   ]
  },
  {
   "cell_type": "markdown",
   "metadata": {},
   "source": [
    "## Step3) 카카오 메시지 보내기 위한 사전 준비하기"
   ]
  },
  {
   "cell_type": "code",
   "execution_count": null,
   "metadata": {},
   "outputs": [],
   "source": [
    "import json\n",
    "import kakao_utils\n",
    "\n",
    "#token이 저장된 파일\n",
    "KAKAO_TOKEN_FILENAME = \"res/kakao_message/kakao_token.json\"\n",
    "KAKAO_APP_KEY = \"<REST_API 앱키를 입력하세요>\"\n",
    "kakao_utils.update_tokens(KAKAO_APP_KEY, KAKAO_TOKEN_FILENAME)"
   ]
  },
  {
   "cell_type": "markdown",
   "metadata": {},
   "source": [
    "## Step4) 리스트 템플릿으로 뉴스 목록 전송하기"
   ]
  },
  {
   "cell_type": "code",
   "execution_count": null,
   "metadata": {},
   "outputs": [],
   "source": [
    "# 사용자가 선택한 카테고리를 제목에 넣기 위한 dictionary\n",
    "sections_ko = {'pol': '정치', 'eco' : '경제', 'soc' : '사회'}\n",
    "\n",
    "# 네이버 뉴스 URL\n",
    "navernews_url = \"https://news.naver.com/main/home.nhn\"\n",
    "\n",
    "# 추후 각 리스트에 들어갈 내용(content) 만들기\n",
    "contents = []\n",
    "\n",
    "# 리스트 템플릿 형식 만들기\n",
    "template = {\n",
    "    \"object_type\" : \"list\",\n",
    "    \"header_title\" : sections_ko[my_section] + \" 분야 상위 뉴스 빅3\",\n",
    "    \"header_link\" : {\n",
    "        \"web_url\": navernews_url,\n",
    "        \"mobile_web_url\" : navernews_url\n",
    "    },\n",
    "    \"contents\" : contents,\n",
    "    \"button_title\" : \"네이버 뉴스 바로가기\"\n",
    "}\n",
    "## 내용 만들기\n",
    "# 각 리스트에 들어갈 내용(content) 만들기\n",
    "for news_info in news_list3:\n",
    "    content = {\n",
    "        \"title\" : news_info.get('title'),\n",
    "        \"description\" : \"작성일 : \" + news_info.get('date'),\n",
    "        \"image_url\" : news_info.get('image_url'),\n",
    "        \"image_width\" : 50, \"image_height\" : 50,\n",
    "        \"link\": {\n",
    "            \"web_url\": news_info.get('news_url'),\n",
    "            \"mobile_web_url\": news_info.get('news_url')\n",
    "        }\n",
    "    }\n",
    "\n",
    "    contents.append(content)\n",
    "\n",
    "# 카카오톡 메시지 전송\n",
    "res = kakao_utils.send_message(KAKAO_TOKEN_FILENAME, template)\n",
    "if res.json().get('result_code') == 0:\n",
    "    print('뉴스를 성공적으로 보냈습니다.')\n",
    "else:\n",
    "    print('뉴스를 성공적으로 보내지 못했습니다. 오류메시지 : ', res.json())"
   ]
  },
  {
   "cell_type": "markdown",
   "metadata": {},
   "source": [
    "## Step5) 텍스트 템플릿으로 뉴스 요약본 전송하기"
   ]
  },
  {
   "cell_type": "code",
   "execution_count": null,
   "metadata": {},
   "outputs": [],
   "source": [
    "# 3번에 걸쳐 각 뉴스의 요약 결과를 전송합니다.\n",
    "for idx, news_info in enumerate(news_list3):\n",
    "    # 텍스트 템플릿 형식 만들기\n",
    "    template = {\n",
    "        \"object_type\": \"text\",\n",
    "        \"text\": '# 제목 : ' + news_info.get('title') + \\\n",
    "                '\\n\\n# 요약 : ' + news_info.get('snews_contents'),\n",
    "        \"link\": {\n",
    "            \"web_url\": news_info.get('news_url'),\n",
    "            \"mobile_web_url\": news_info.get('news_url')\n",
    "        },\n",
    "        \"button_title\": \"자세히 보기\"\n",
    "    }\n",
    "    \n",
    "    # 카카오톡 메시지 전송\n",
    "    res = kakao_utils.send_message(KAKAO_TOKEN_FILENAME, template)\n",
    "    if res.json().get('result_code') == 0:\n",
    "        print('뉴스를 성공적으로 보냈습니다.')\n",
    "    else:\n",
    "        print('뉴스를 성공적으로 보내지 못했습니다. 오류메시지 : ', res.json())"
   ]
  },
  {
   "cell_type": "code",
   "execution_count": null,
   "metadata": {},
   "outputs": [],
   "source": []
  }
 ],
 "metadata": {
  "kernelspec": {
   "display_name": "Python 3",
   "language": "python",
   "name": "python3"
  },
  "language_info": {
   "codemirror_mode": {
    "name": "ipython",
    "version": 3
   },
   "file_extension": ".py",
   "mimetype": "text/x-python",
   "name": "python",
   "nbconvert_exporter": "python",
   "pygments_lexer": "ipython3",
   "version": "3.7.9"
  }
 },
 "nbformat": 4,
 "nbformat_minor": 4
}
