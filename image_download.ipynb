{
 "cells": [
  {
   "cell_type": "markdown",
   "metadata": {
    "id": "2RHNJgB3RlDM"
   },
   "source": [
    "# 1장. 연예인 사진 모으기 프로젝트"
   ]
  },
  {
   "cell_type": "markdown",
   "metadata": {
    "id": "N4u-Y2-oRlDO"
   },
   "source": [
    "## 1.2.1 회원가입\n",
    "- 카카오 개발자 사이트 : https://developers.kakao.com"
   ]
  },
  {
   "cell_type": "markdown",
   "metadata": {
    "id": "h6EL60oDRlDS"
   },
   "source": [
    "## 1.3.1 파일 읽고, 쓰기"
   ]
  },
  {
   "cell_type": "code",
   "execution_count": 1,
   "metadata": {
    "id": "p4DGNEj0RlDT"
   },
   "outputs": [
    {
     "name": "stdout",
     "output_type": "stream",
     "text": [
      "========= [파일 읽기 결과] =========\n",
      "hello\n"
     ]
    }
   ],
   "source": [
    "# 파일 쓰기\n",
    "data = \"hello\"\n",
    "with open(\"test.txt\", \"w\") as fp:\n",
    "    fp.write(data)\n",
    "\n",
    "# 파일 읽기\n",
    "with open(\"test.txt\", \"r\") as fp:\n",
    "    print(\"========= [파일 읽기 결과] =========\")\n",
    "    print(fp.read())"
   ]
  },
  {
   "cell_type": "markdown",
   "metadata": {
    "id": "iqBCEdMtRlDV"
   },
   "source": [
    "## 1.3.2 웹에 있는 이미지 파일을 저장하는 방법\n",
    "- https://search1.kakaocdn.net/argon/600S0_65_wr/ImZk3b2X1w8"
   ]
  },
  {
   "cell_type": "code",
   "execution_count": 2,
   "metadata": {
    "id": "dUr1VglmRlDW"
   },
   "outputs": [
    {
     "name": "stdout",
     "output_type": "stream",
     "text": [
      "========= [이미지 저장] =========\n"
     ]
    }
   ],
   "source": [
    "import requests\n",
    "\n",
    "# 이미지가 있는 url 주소\n",
    "url = \"https://search1.kakaocdn.net/argon/600x0_65_wr/ImZk3b2X1w8\" \n",
    "\n",
    "# 해당 url로 서버에게 요청\n",
    "img_response = requests.get(url)\n",
    "\n",
    "# 요청에 성공했다면,\n",
    "if img_response.status_code == 200:\n",
    "    #print(img_response.content)\n",
    "\n",
    "    print(\"========= [이미지 저장] =========\")\n",
    "    with open(\"test.jpg\", \"wb\") as fp:\n",
    "        fp.write(img_response.content)"
   ]
  },
  {
   "cell_type": "markdown",
   "metadata": {
    "id": "9NesVX5zRlDX"
   },
   "source": [
    "# 1.4 구현하기"
   ]
  },
  {
   "cell_type": "markdown",
   "metadata": {
    "id": "M__xMVJZRlDY"
   },
   "source": [
    "## Step 1) 카카오 이미지 검색 OpenAPI 호출하기\n",
    "- 카카오 이미지 검색 OpenAPI 문서 : https://developers.kakao.com/docs/latest/ko/daum-search/dev-guide#search-image"
   ]
  },
  {
   "cell_type": "code",
   "execution_count": 4,
   "metadata": {
    "id": "AviUIaBWRlDZ",
    "scrolled": false
   },
   "outputs": [
    {
     "name": "stdout",
     "output_type": "stream",
     "text": [
      "error! because  {'errorType': 'AccessDeniedError', 'message': 'wrong appKey(<R1195303dc596b6431120aac286984472>) format'}\n"
     ]
    }
   ],
   "source": [
    "import requests\n",
    "import json\n",
    "\n",
    "# 이미지 검색\n",
    "url = \"https://dapi.kakao.com/v2/search/image\"\n",
    "headers = {\n",
    "    \"Authorization\" : \"KakaoAK <610148>\"\n",
    "}\n",
    "data = {\n",
    "    \"query\" : \"펭수\"\n",
    "}\n",
    "\n",
    "# 이미지 검색 요청\n",
    "response = requests.post(url, headers=headers, data=data)\n",
    "# 요청에 실패했다면,\n",
    "if response.status_code != 200:\n",
    "    print(\"error! because \", response.json())\n",
    "else: # 성공했다면,\n",
    "    count = 0\n",
    "    for image_info in response.json()['documents']:\n",
    "        print(f\"[{count}th] image_url =\", image_info['image_url'])\n",
    "        # 저장될 이미지 파일명 설정\n",
    "        count = count + 1"
   ]
  },
  {
   "cell_type": "markdown",
   "metadata": {
    "id": "qqJAuwawRlDb"
   },
   "source": [
    "## Step 2) 이미지 파일 저장하기"
   ]
  },
  {
   "cell_type": "code",
   "execution_count": null,
   "metadata": {
    "id": "NuG8RKkCRlDb"
   },
   "outputs": [],
   "source": [
    "# 이미지가 있는 image_url을 통해 file_name 파일로 저장하는 함수\n",
    "def save_image(image_url, file_name):\n",
    "    img_response = requests.get(image_url)\n",
    "    # 요청에 성공했다면,\n",
    "    if img_response.status_code == 200:\n",
    "        # 파일 저장\n",
    "        with open(file_name, \"wb\") as fp:\n",
    "            fp.write(img_response.content)"
   ]
  },
  {
   "cell_type": "markdown",
   "metadata": {
    "id": "vsdm4MsjRlDd"
   },
   "source": [
    "## Step 3) 전체 코드 완성하기"
   ]
  },
  {
   "cell_type": "code",
   "execution_count": null,
   "metadata": {
    "id": "_kHoygVBRlDe"
   },
   "outputs": [],
   "source": [
    "import requests\n",
    "import json\n",
    "\n",
    "# 이미지가 있는 image_url을 통해 file_name 파일로 저장하는 함수\n",
    "def save_image(image_url, file_name):\n",
    "    img_response = requests.get(image_url)\n",
    "    # 요청에 성공했다면,\n",
    "    if img_response.status_code == 200:\n",
    "        # 파일 저장\n",
    "        with open(file_name, \"wb\") as fp:\n",
    "            fp.write(img_response.content)\n",
    "\n",
    "# 이미지 검색\n",
    "url = \"https://dapi.kakao.com/v2/search/image\"\n",
    "headers = {\n",
    "    \"Authorization\" : \"KakaoAK <REST_API 앱 키를 입력하세요>\"\n",
    "}\n",
    "data = {\n",
    "    \"query\" : \"펭수\"\n",
    "}\n",
    "\n",
    "# 이미지 검색 요청\n",
    "response = requests.post(url, headers=headers, data=data)\n",
    "# 요청에 실패했다면,\n",
    "if response.status_code != 200:\n",
    "    print(\"error! because \", response.json())\n",
    "else: # 성공했다면,\n",
    "    count = 0\n",
    "    for image_info in response.json()['documents']:\n",
    "        print(f\"[{count}th] image_url =\", image_info['image_url'])\n",
    "        # 저장될 이미지 파일명 설정\n",
    "        count = count + 1\n",
    "        file_name = \"test_%d.jpg\" %(count)\n",
    "        # 이미지 저장\n",
    "        save_image(image_info['image_url'], file_name)"
   ]
  }
 ],
 "metadata": {
  "colab": {
   "collapsed_sections": [],
   "name": "image_download.ipynb",
   "provenance": []
  },
  "kernelspec": {
   "display_name": "Python 3",
   "language": "python",
   "name": "python3"
  },
  "language_info": {
   "codemirror_mode": {
    "name": "ipython",
    "version": 3
   },
   "file_extension": ".py",
   "mimetype": "text/x-python",
   "name": "python",
   "nbconvert_exporter": "python",
   "pygments_lexer": "ipython3",
   "version": "3.7.6"
  }
 },
 "nbformat": 4,
 "nbformat_minor": 1
}
