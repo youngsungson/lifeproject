{
 "cells": [
  {
   "cell_type": "markdown",
   "metadata": {},
   "source": [
    "# 9장 날씨 정보를 이용한 맛집 추천 프로젝트"
   ]
  },
  {
   "cell_type": "markdown",
   "metadata": {},
   "source": [
    "## 9.2 사전 준비하기"
   ]
  },
  {
   "cell_type": "markdown",
   "metadata": {},
   "source": [
    "### 9.2.2 공공 데이터 포털–날씨 서비스 인증키 발급\n",
    "- 공공 데이터 포털 : www.data.go.kr"
   ]
  },
  {
   "cell_type": "markdown",
   "metadata": {},
   "source": [
    "## 9.3 사전 지식 쌓기"
   ]
  },
  {
   "cell_type": "markdown",
   "metadata": {},
   "source": [
    "### 9.3.1 날씨 정보 가져오기"
   ]
  },
  {
   "cell_type": "code",
   "execution_count": null,
   "metadata": {},
   "outputs": [],
   "source": [
    "import requests\n",
    "import json\n",
    "import datetime\n",
    "\n",
    "vilage_weather_url = \"http://apis.data.go.kr/1360000/VilageFcstInfoService/getVilageFcst?\"\n",
    "\n",
    "service_key = \"<동네예보조회의 인증키를 입력합니다.>\"\n",
    "base_date = datetime.datetime.today().strftime(\"%Y%m%d\") # \"20200214\" == 기준 날짜\n",
    "base_time = \"0800\" # 날씨 값\n",
    "nx = \"59\"\n",
    "ny = \"126\"\n",
    "\n",
    "payload = \"serviceKey=\" + service_key + \"&\" + \\\n",
    "          \"dataType=json\" + \"&\" + \\\n",
    "          \"base_date=\" + base_date + \"&\" + \\\n",
    "          \"base_time=\" + base_time + \"&\" + \\\n",
    "          \"nx=\" + nx + \"&\" + \\\n",
    "          \"ny=\" + ny\n",
    "\n",
    "# 값 요청\n",
    "res = requests.get(vilage_weather_url + payload)\n",
    "try:\n",
    "    items = res.json().get('response').get('body').get('items')\n",
    "    print(items)\n",
    "except:\n",
    "    print(\"날씨 정보 요청 실패 : \", res.text)"
   ]
  },
  {
   "cell_type": "markdown",
   "metadata": {},
   "source": [
    "## 9.3.2 미세먼지 정보 가져오기"
   ]
  },
  {
   "cell_type": "code",
   "execution_count": null,
   "metadata": {},
   "outputs": [],
   "source": [
    "import requests\n",
    "import json\n",
    "import datetime\n",
    "\n",
    "dust_url = \"http://apis.data.go.kr/B552584/ArpltnInforInqireSvc/getCtprvnRltmMesureDnsty?\"\n",
    "\n",
    "service_key = \"<한국환경공단_에어코리아_대기오염정보의 인증키를 입력합니다.>\"\n",
    "\n",
    "payload = \"serviceKey=\" + service_key + \"&\" + \\\n",
    "          \"returnType=json\" + \"&\" + \\\n",
    "          \"sidoName=서울\" + \"&\" + \\\n",
    "          \"ver=1.0\"\n",
    "\n",
    "# pm10과 pm2.5 수치 가져오기\n",
    "res = requests.get(dust_url + payload)\n",
    "result = res.json()\n",
    "dust = dict()\n",
    "if (res.status_code == 200) & (result['response']['header']['resultCode'] == '00'):\n",
    "    dust['PM10'] = {'value' : int(result['response']['body']['items'][0]['pm10Value'])}\n",
    "    dust['PM2.5'] = {'value' : int(result['response']['body']['items'][0]['pm25Value'])}\n",
    "else:\n",
    "    print(\"미세먼지 가져오기 실패 : \", result['response']['header']['resultMsg'])\n",
    "\n",
    "print(dust)"
   ]
  },
  {
   "cell_type": "markdown",
   "metadata": {},
   "source": [
    "# 9.4 구현"
   ]
  },
  {
   "cell_type": "markdown",
   "metadata": {},
   "source": [
    "## Step 1) 날씨 정보 얻기 및 정제하기"
   ]
  },
  {
   "cell_type": "code",
   "execution_count": null,
   "metadata": {},
   "outputs": [],
   "source": [
    "import requests\n",
    "import json\n",
    "import datetime\n",
    "\n",
    "vilage_weather_url = \"http://apis.data.go.kr/1360000/VilageFcstInfoService/getVilageFcst?\"\n",
    "\n",
    "service_key = \"<동네예보조회의 인증키를 입력합니다.>\"\n",
    "base_date = datetime.datetime.today().strftime(\"%Y%m%d\") # \"20200214\" == 기준 날짜\n",
    "base_time = \"0800\" # 기준 시간\n",
    "nx = \"59\"\n",
    "ny = \"126\" # 문래동 위경도 좌표\n",
    "\n",
    "payload = \"serviceKey=\" + service_key + \"&\" + \\\n",
    "          \"dataType=json\" + \"&\" + \\\n",
    "          \"base_date=\" + base_date + \"&\" + \\\n",
    "          \"base_time=\" + base_time + \"&\" + \\\n",
    "          \"nx=\" + nx + \"&\" + \\\n",
    "          \"ny=\" + ny\n",
    "\n",
    "pty_code = { \"0\": \"없음\", \"1\" : \"비\", \"2\" : \"비/눈\", \"3\":\"눈\", \"4\":\"소나기\", \"5\":\"빗방울\", \"6\":\"빗방울/눈날림\", \"7\":\"눈날림\"}\n",
    "\n",
    "data = dict()\n",
    "data['date'] = base_date\n",
    "weather = dict()\n",
    "\n",
    "# 값 요청\n",
    "res = requests.get(vilage_weather_url + payload)\n",
    "try:\n",
    "    items = res.json().get('response').get('body').get('items')\n",
    "    for item in items['item']:\n",
    "        # 기온\n",
    "        if item['category'] == 'T3H':\n",
    "            weather['tmp'] = item['fcstValue']\n",
    "\n",
    "        # 강수상태\n",
    "        if item['category'] == 'PTY':\n",
    "            weather['code'] = item['fcstValue']\n",
    "            weather['state'] = pty_code[item['fcstValue']]\n",
    "except:\n",
    "    print(\"날씨 정보 가져오기 실패 : \", res.text)\n",
    "\n",
    "data['weather'] = weather\n",
    "print(data['weather'])"
   ]
  },
  {
   "cell_type": "markdown",
   "metadata": {},
   "source": [
    "## Step 2) 미세먼지 정보 얻기 및 정제하기"
   ]
  },
  {
   "cell_type": "code",
   "execution_count": null,
   "metadata": {},
   "outputs": [],
   "source": [
    "def get_pm10_state(pm10_value):\n",
    "    if pm10_value < 30:\n",
    "        pm10_state = \"좋음\"\n",
    "    elif pm10_value < 80:\n",
    "        pm10_state = \"보통\"\n",
    "    elif pm10_value < 150:\n",
    "        pm10_state = \"나쁨\"\n",
    "    else:\n",
    "        pm10_state = \"매우 나쁨\"\n",
    "\n",
    "    return pm10_state\n",
    "\n",
    "def get_pm25_state(pm25_value):\n",
    "    if pm25_value < 15:\n",
    "        pm25_state = \"좋음\"\n",
    "    elif pm25_value < 35:\n",
    "        pm25_state = \"보통\"\n",
    "    elif pm25_value < 75:\n",
    "        pm25_state = \"나쁨\"\n",
    "    else:\n",
    "        pm25_state = \"매우 나쁨\"\n",
    "\n",
    "    return pm25_state\n",
    "\n",
    "# 미세먼지 데이터 요청\n",
    "dust_url = \"http://apis.data.go.kr/B552584/ArpltnInforInqireSvc/getCtprvnRltmMesureDnsty?\"\n",
    "\n",
    "service_key = \"<한국환경공단_에어코리아_대기오염정보의 인증키를 입력합니다.>\"\n",
    "\n",
    "payload = \"serviceKey=\" + service_key + \"&\" + \\\n",
    "          \"returnType=json\" + \"&\" + \\\n",
    "          \"sidoName=서울\" + \"&\" + \\\n",
    "          \"ver=1.0\"\n",
    "\n",
    "# pm10 pm2.5 수치 가져오기\n",
    "res = requests.get(dust_url + payload)\n",
    "result = res.json()\n",
    "dust = dict()\n",
    "if (res.status_code == 200) & (result['response']['header']['resultCode'] == '00'):\n",
    "    dust['PM10'] = {'value' : int(result['response']['body']['items'][0]['pm10Value'])}\n",
    "    dust['PM2.5'] = {'value' : int(result['response']['body']['items'][0]['pm25Value'])}\n",
    "    # PM10 미세먼지 30 80 150\n",
    "    pm10_value = dust.get('PM10').get('value')\n",
    "    pm10_state = get_pm10_state(pm10_value)\n",
    "\n",
    "    # PM2.5 초미세먼지 15 35 75\n",
    "    pm25_value = dust.get('PM2.5').get('value')\n",
    "    pm25_state = get_pm25_state(pm25_value)\n",
    "\n",
    "    dust.get('PM10')['state'] = pm10_state\n",
    "    dust.get('PM2.5')['state'] = pm25_state\n",
    "else:\n",
    "    print(\"미세먼지 가져오기 실패 : \", result['response']['header']['resultMsg'])\n",
    "\n",
    "data['dust'] = dust\n",
    "print(data['dust'])"
   ]
  },
  {
   "cell_type": "markdown",
   "metadata": {},
   "source": [
    "## Step 3) 날씨에 따른 음식 데이터 구하기"
   ]
  },
  {
   "cell_type": "code",
   "execution_count": null,
   "metadata": {},
   "outputs": [],
   "source": [
    "import random # 랜덤하게 음식 리스트 뽑기\n",
    "\n",
    "rain_foods = \"부대찌개,아구찜,해물탕,칼국수,수제비,짬뽕,우동,치킨,국밥,김치부침개,두부김치,파전\".split(',')\n",
    "pmhigh_foods = \"콩나물국밥,고등어,굴,쌀국수,마라탕\".split(',')\n",
    "\n",
    "def get_foods_list(weather,dust_pm10, dust_pm20):\n",
    "    if weather != '0':\n",
    "        recommand_state = 'Case1'\n",
    "        # random.sample(x, k=len(x)) 무작위로 리스트 섞기\n",
    "        foods_list = random.sample(rain_foods, k=len(rain_foods))\n",
    "    elif dust_pm10 == '매우나쁨' or dust_pm20 == '매우나쁨' :\n",
    "        recommand_state = 'Case2'\n",
    "        foods_list = random.sample(pmhigh_foods, k=len(pmhigh_foods))\n",
    "    else:\n",
    "        recommand_state = 'Case3'\n",
    "        foods_list = ['']\n",
    "    \n",
    "    return recommand_state, foods_list"
   ]
  },
  {
   "cell_type": "markdown",
   "metadata": {},
   "source": [
    "## Step 4) 네이버 맛집 검색"
   ]
  },
  {
   "cell_type": "code",
   "execution_count": null,
   "metadata": {},
   "outputs": [],
   "source": [
    "def naver_local_search(query, display):\n",
    "    # 네이버 애플리케이션의 client_id와 client_secret 키 설정\n",
    "    headers = {\n",
    "        \"X-Naver-Client-Id\" : \"<네이버 애플리케이션의 Client ID를 입력하세요>\",\n",
    "        \"X-Naver-Client-Secret\" : \"<네이버 애플리케이션의 Client Secret를 입력하세요>\"\n",
    "    }\n",
    "\n",
    "    # 지역 검색 요청 파라미터 설정\n",
    "    params = {\n",
    "        \"sort\" : \"comment\",\n",
    "        \"query\" : query,\n",
    "        \"display\" : display\n",
    "    }\n",
    "\n",
    "    # 지역 검색 URL과 요청 파라미터\n",
    "    naver_local_url = \"https://openapi.naver.com/v1/search/local.json\"\n",
    "\n",
    "    # 지역 검색 요청\n",
    "    res = requests.get(naver_local_url, headers=headers, params=params)\n",
    "\n",
    "    # 지역 검색 결과 확인\n",
    "    places = res.json().get('items')\n",
    "\n",
    "    return places\n",
    "\n",
    "# 경우 1 : 비/눈/소나기 => 비오는날 음식 3개 추천\n",
    "# 경우 2 : 초/미세먼지 나쁨 이상 => 미세먼지에 좋은 음식 3개 추천\n",
    "# 경우 3 : 정상 => 블로그 리뷰 순 맛집 추천\n",
    "weather = data.get('weather').get('code')\n",
    "dust_pm10 = data.get('dust').get('PM10').get(\"state\")\n",
    "dust_pm20 = data.get('dust').get('PM2.5').get(\"state\")\n",
    "\n",
    "# 날씨 상태와 음식 종류 선정\n",
    "weather_state, foods_list = get_foods_list(weather, dust_pm10, dust_pm20)\n",
    "\n",
    "# 위치는 사용자가 사용할 지역으로 변경 가능\n",
    "location = \"문래동\"\n",
    "\n",
    "# 추천된 맛집을 담을 리스트\n",
    "recommands = []\n",
    "for food in foods_list:\n",
    "    # 지역 검색 요청 파라미터 설정\n",
    "    # 만약, 날씨가 맑은 경우, food가 ''이므로, '문래동 맛집'이 된다.\n",
    "    query= location + \" \" + food + \" 맛집\"\n",
    "\n",
    "    # 맛집 검색 결과\n",
    "    result_list = naver_local_search(query, 3)\n",
    "\n",
    "    if len(result_list) > 0:\n",
    "        if weather_state == 'Case3': # Case3 처리 로직 : 맛집 검색 결과에서 가장 상위 3개를 가져옴\n",
    "            recommands = result_list\n",
    "            break\n",
    "        else: # Case1, Case2 처리 로직 : 해당 음식 검색 결과에서 가장 상위를 가져옴\n",
    "            recommands.append(result_list[0])\n",
    "    else:\n",
    "        print(\"검색 결과 없음\") # 메뉴에 해당하는 맛집이 없을 수 있음\n",
    "\n",
    "    if len(recommands) == 3:\n",
    "        break\n",
    "\n",
    "print(recommands)"
   ]
  },
  {
   "cell_type": "markdown",
   "metadata": {},
   "source": [
    "## Step5) 카카오 메시지 보내기 위한 사전 준비"
   ]
  },
  {
   "cell_type": "code",
   "execution_count": null,
   "metadata": {},
   "outputs": [],
   "source": [
    "import json\n",
    "import kakao_utils\n",
    "\n",
    "KAKAO_TOKEN_FILENAME = \"res/kakao_message/kakao_token.json\"\n",
    "KAKAO_APP_KEY = \"<REST_API 앱키를 입력하세요>\"\n",
    "kakao_utils.update_tokens(KAKAO_APP_KEY, KAKAO_TOKEN_FILENAME)"
   ]
  },
  {
   "cell_type": "markdown",
   "metadata": {},
   "source": [
    "## Step6) 텍스트 템플릿으로 날씨 및 미세먼지 정보 전송하기 "
   ]
  },
  {
   "cell_type": "code",
   "execution_count": null,
   "metadata": {},
   "outputs": [],
   "source": [
    "# 날씨 상세 정보 URL\n",
    "weather_url = \"https://search.naver.com/search.naver?sm=top_hty&fbm=0&ie=utf8&query=%EB%82%A0%EC%94%A8\"\n",
    "\n",
    "# 날씨 정보 만들기\n",
    "text = f\"\"\"\\\n",
    "# 날씨 정보 ({data['date']})\n",
    "기온 : {data['weather']['tmp']}\n",
    "기우 : {data['weather']['state']}\n",
    "미세먼지 : {data['dust']['PM10']['value']} {data['dust']['PM10']['state']}\n",
    "초미세먼지 : {data['dust']['PM2.5']['value']} {data['dust']['PM2.5']['state']}\n",
    "\"\"\"\n",
    "\n",
    "# 텍스트 템플릿 형식 만들기\n",
    "template = {\n",
    "    \"object_type\": \"text\",\n",
    "    \"text\": text,\n",
    "    \"link\": {\n",
    "        \"web_url\": weather_url,\n",
    "        \"mobile_web_url\": weather_url\n",
    "    },\n",
    "    \"button_title\": \"날씨 상세보기\"\n",
    "}\n",
    "\n",
    "# 카카오톡 메시지 전송\n",
    "res = kakao_utils.send_message(KAKAO_TOKEN_FILENAME, template)\n",
    "if res.json().get('result_code') == 0:\n",
    "    print('날씨 및 미세먼지 정보 성공적으로 보냈습니다.')\n",
    "else:\n",
    "    print('날씨 및 미세먼지 정보 성공적으로 보내지 못했습니다. 오류메시지 : ', res.json())"
   ]
  },
  {
   "cell_type": "markdown",
   "metadata": {},
   "source": [
    "## Step7) \t리스트 템플릿으로 맛집 정보 전송하기"
   ]
  },
  {
   "cell_type": "code",
   "execution_count": null,
   "metadata": {},
   "outputs": [],
   "source": [
    "# 리스트 템플릿 형식 만들기\n",
    "contents = []\n",
    "template = {\n",
    "    \"object_type\" : \"list\",\n",
    "    \"header_title\" : \"현재 날씨에 따른 음식 추천\",\n",
    "    \"header_link\" : {\n",
    "        \"web_url\": weather_url,\n",
    "        \"mobile_web_url\" : weather_url\n",
    "    },\n",
    "    \"contents\" : contents,\n",
    "    \"buttons\" : [\n",
    "        {\n",
    "            \"title\" : \"날씨 정보 상세보기\",\n",
    "            \"link\" : {\n",
    "                \"web_url\": weather_url,\n",
    "                \"mobile_web_url\" : weather_url\n",
    "            }\n",
    "        }\n",
    "    ],\n",
    "}\n",
    "\n",
    "# contents 만들기\n",
    "for place in recommands:\n",
    "    title = place.get('title') # 장소 이름\n",
    "    # title : 태극쿵푸<b>마라탕</b>\n",
    "    # html 태그 제거\n",
    "    title = title.replace('<b>','').replace('</b>','')\n",
    "\n",
    "    category = place.get('category') # 장소 카테고리\n",
    "    telephone = place.get('telephone') # 장소 전화번호\n",
    "    address = place.get('address') # 장소 지번 주소\n",
    "\n",
    "    # 각 장소를 클릭할 때 네이버 검색으로 연결해주기 위해 작성된 코드\n",
    "    enc_address = address + ' ' + title\n",
    "    query = \"query=\" + enc_address\n",
    "\n",
    "    # 장소 카테고리가 카페이면 카페 이미지\n",
    "    # 이외에는 음식 이미지\n",
    "    if '카페' in category:\n",
    "        image_url = \"https://freesvg.org/img/pitr_Coffee_cup_icon.png\"\n",
    "    else:\n",
    "        image_url = \"https://freesvg.org/img/bentolunch.png?w=150&h=150&fit=fill\"\n",
    "\n",
    "    # 전화번호가 있다면 제목과 함께 넣어줍니다.\n",
    "    if telephone:\n",
    "        title = title + \"\\ntel) \" + telephone\n",
    "\n",
    "    # 카카오톡 리스트 템플릿 형식에 맞춰줍니다.\n",
    "    content = {\n",
    "        \"title\": \"[\" + category + \"] \" + title,\n",
    "        \"description\": ' '.join(address.split()[1:]),\n",
    "        \"image_url\": image_url,\n",
    "        \"image_width\": 50, \"image_height\": 50,\n",
    "        \"link\": {\n",
    "            \"web_url\": \"https://search.naver.com/search.naver?\" + query,\n",
    "            \"mobile_web_url\": \"https://search.naver.com/search.naver?\" + query\n",
    "        }\n",
    "    }\n",
    "\n",
    "    contents.append(content)\n",
    "\n",
    "\n",
    "# 카카오톡 메시지 전송\n",
    "res = kakao_utils.send_message(KAKAO_TOKEN_FILENAME, template)\n",
    "if res.json().get('result_code') == 0:\n",
    "    print('맛집 정보 성공적으로 보냈습니다.')\n",
    "else:\n",
    "    print('맛집 정보 성공적으로 보내지 못했습니다. 오류메시지 : ', res.json())"
   ]
  }
 ],
 "metadata": {
  "kernelspec": {
   "display_name": "Python 3",
   "language": "python",
   "name": "python3"
  },
  "language_info": {
   "codemirror_mode": {
    "name": "ipython",
    "version": 3
   },
   "file_extension": ".py",
   "mimetype": "text/x-python",
   "name": "python",
   "nbconvert_exporter": "python",
   "pygments_lexer": "ipython3",
   "version": "3.7.9"
  }
 },
 "nbformat": 4,
 "nbformat_minor": 4
}
