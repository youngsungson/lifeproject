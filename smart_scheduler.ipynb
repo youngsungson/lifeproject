{
 "cells": [
  {
   "cell_type": "markdown",
   "metadata": {},
   "source": [
    "# 8장 (구글 캘린더를 연동한) 스마트 일정 관리 프로젝트 "
   ]
  },
  {
   "cell_type": "markdown",
   "metadata": {},
   "source": [
    "##  8.2.1 구글 클라이언트 라이브러리 설치하기\n",
    "- 구글 캘린더 OpenAPI : https://developers.google.com/calendar/quickstart/python"
   ]
  },
  {
   "cell_type": "markdown",
   "metadata": {},
   "source": [
    "- !pip install --upgrade google-api-python-client google-auth-httplib2 google-auth-oauthlib"
   ]
  },
  {
   "cell_type": "markdown",
   "metadata": {},
   "source": [
    "## 8.2.2 구글 애플리케이션 등록 및 인증키 발급받기\n",
    "- 구글 클라우드 콘솔 : https://console.cloud.google.com"
   ]
  },
  {
   "cell_type": "markdown",
   "metadata": {},
   "source": [
    "## 8.2.4 네이버 애플리케이션 등록 및 인증키 발급받기\n",
    "- 네이버 개발자 센터 :  https://developers.naver.com/main"
   ]
  },
  {
   "cell_type": "markdown",
   "metadata": {},
   "source": [
    "## 8.3 사전 지식 쌓기"
   ]
  },
  {
   "cell_type": "markdown",
   "metadata": {},
   "source": [
    "## 8.3.1 네이버 지역 검색 OpenAPI 사용하기\n",
    "- https://developers.naver.com/main"
   ]
  },
  {
   "cell_type": "code",
   "execution_count": null,
   "metadata": {},
   "outputs": [],
   "source": [
    "import requests\n",
    "\n",
    "# 네이버 애플리케이션의 client_id와 client_secret 키 설정\n",
    "headers = {\n",
    "    \"X-Naver-Client-Id\" : \"<네이버 애플리케이션의 Client ID를 입력하세요>\",\n",
    "    \"X-Naver-Client-Secret\" : \"<네이버 애플리케이션의 Client Secret를 입력하세요>\"\n",
    "}\n",
    "\n",
    "# 지역 검색 요청 파라미터 설정\n",
    "query=\"국민대 맛집\"\n",
    "params = {\n",
    "    \"sort\" : \"comment\",\n",
    "    \"query\" : query,\n",
    "    \"display\" : 3\n",
    "}\n",
    "\n",
    "# 지역 검색 URL과 요청 파라미터\n",
    "naver_local_url = \"https://openapi.naver.com/v1/search/local.json\"\n",
    "\n",
    "# 지역 검색 요청\n",
    "res = requests.get(naver_local_url, headers=headers, params=params)\n",
    "if res.status_code == 200:\n",
    "    # 지역 검색 결과 확인\n",
    "    places = res.json().get('items')\n",
    "    print(places)"
   ]
  },
  {
   "cell_type": "markdown",
   "metadata": {},
   "source": [
    "## 8.3.2 구글 캘린더 CRUD 연습하기\n",
    "- https://developers.google.com/calendar/v3/reference/?apix=true"
   ]
  },
  {
   "cell_type": "markdown",
   "metadata": {},
   "source": [
    "### 8.3.2.1 구글 캘린더 인증"
   ]
  },
  {
   "cell_type": "code",
   "execution_count": null,
   "metadata": {},
   "outputs": [],
   "source": [
    "# 필요한 라이브러리\n",
    "from google_auth_oauthlib.flow import InstalledAppFlow\n",
    "# 구글 캘린더 API 서비스 객체 생성\n",
    "from googleapiclient.discovery import build\n",
    "import datetime\n",
    "\n",
    "# 구글 클라우드 콘솔에서 다운받은 OAuth 2.0 클라이언트 파일 경로\n",
    "creds_filename = 'res/smart_scheduler/google_token.json' \n",
    "# 사용 권한 지정\n",
    "# https://www.googleapis.com/auth/calendar 캘린더 읽기/쓰기 권한\n",
    "# https://www.googleapis.com/auth/calendar.readonly 캘린더 읽기 권한\n",
    "SCOPES = ['https://www.googleapis.com/auth/calendar']\n",
    "\n",
    "# 파일에 담긴 인증 정보로 구글 서버에 인증하기\n",
    "# 새 창이 열리면서 구글 로그인 및 정보 제공 동의 후 최종 인증이 완료됩니다.\n",
    "flow = InstalledAppFlow.from_client_secrets_file(creds_filename, SCOPES)\n",
    "creds = flow.run_local_server(port=0)"
   ]
  },
  {
   "cell_type": "markdown",
   "metadata": {},
   "source": [
    "### 8.3.2.2 서비스 객체 생성"
   ]
  },
  {
   "cell_type": "code",
   "execution_count": null,
   "metadata": {},
   "outputs": [],
   "source": [
    "### 객체 생성\n",
    "service = build('calendar', 'v3', credentials=creds)"
   ]
  },
  {
   "cell_type": "markdown",
   "metadata": {},
   "source": [
    "### 8.3.2.3 일정 생성(Create)"
   ]
  },
  {
   "cell_type": "code",
   "execution_count": null,
   "metadata": {},
   "outputs": [],
   "source": [
    "today=datetime.datetime.today().strftime(\"%Y-%m-%d\") # 일정을 생성할 날짜 YYYY-mm-dd 포맷 ex) today = \"2020-10-18\"\n",
    "\n",
    "event = {\n",
    "    'summary': '오늘 배워 오늘 쓰는 OpenAPI 수업', # 일정 제목\n",
    "    'location': '서울특별시 성북구 정릉동 정릉로 77', # 일정 장소\n",
    "    'description': 'OpenAPI 수업에 대한 설명입니다. 정말 재밌습니다.', # 일정 설명\n",
    "    'start': { # 시작 날짜\n",
    "        'dateTime': today + 'T09:00:00',\n",
    "        'timeZone': 'Asia/Seoul',\n",
    "    },\n",
    "    'end': { # 종료 날짜\n",
    "        'dateTime': today + 'T10:00:00',\n",
    "        'timeZone': 'Asia/Seoul',\n",
    "    },\n",
    "    'attendees': [ # 참석자\n",
    "        {'email': 'lpage@example.com'},\n",
    "        {'email': 'sbrin@example.com'},\n",
    "    ],\n",
    "    'reminders': { # 알림 설정\n",
    "        'useDefault': False,\n",
    "        'overrides': [\n",
    "            {'method': 'email', 'minutes': 24 * 60}, # 24 * 60분 = 하루 전 알림\n",
    "            {'method': 'popup', 'minutes': 10}, # 10분 전 알림\n",
    "        ],\n",
    "    },\n",
    "}\n",
    "\n",
    "# calendarId : 캘린더 ID. primary이 기본 값입니다.\n",
    "event = service.events().insert(calendarId='primary', body=event).execute()\n",
    "print('Event created: %s' % (event.get('htmlLink')))"
   ]
  },
  {
   "cell_type": "markdown",
   "metadata": {},
   "source": [
    "### 8.3.2.4 일정 조회(Read)"
   ]
  },
  {
   "cell_type": "code",
   "execution_count": null,
   "metadata": {},
   "outputs": [],
   "source": [
    "# 조회에 사용될 요청 변수 지정\n",
    "calendar_id = 'primary' # 사용할 캘린더 ID\n",
    "today = datetime.date.today().strftime(\"%Y-%m-%d\") # 일정을 조회할 날짜 YYYY-mm-dd 포맷\n",
    "time_min = today + 'T00:00:00+09:00' # 일정을 조회할 최소 날짜\n",
    "time_max = today + 'T23:59:59+09:00' # 일정을 조회할 최대 날짜\n",
    "max_results = 5 # 일정을 조회할 최대 개수\n",
    "is_single_events = True # 반복 일정의 여부\n",
    "orderby = 'startTime' # 일정 정렬\n",
    "\n",
    "events_result = service.events().list(calendarId = calendar_id,\n",
    "                                      timeMin = time_min,\n",
    "                                      timeMax = time_max,\n",
    "                                      maxResults = max_results,\n",
    "                                      singleEvents = is_single_events,\n",
    "                                      orderBy = orderby\n",
    "                                      ).execute()\n",
    "\n",
    "items = events_result.get('items')\n",
    "print(\"===== [일정 목록 출력]=====\")\n",
    "print(items)"
   ]
  },
  {
   "cell_type": "markdown",
   "metadata": {},
   "source": [
    "### 8.3.2.5 일정 수정(Update)"
   ]
  },
  {
   "cell_type": "code",
   "execution_count": null,
   "metadata": {},
   "outputs": [],
   "source": [
    "event = events_result.get('items')[0]\n",
    "event_id = event.get('id')\n",
    "\n",
    "# 원하는 일정의 속성 값 변경하기\n",
    "event['summary'] = \"(수정된)\" + event['summary']\n",
    "\n",
    "# 일정 수정 요청하기\n",
    "updated_event = service.events().update(calendarId='primary', eventId=event_id, body=event).execute()"
   ]
  },
  {
   "cell_type": "markdown",
   "metadata": {},
   "source": [
    "### 8.3.2.6 일정 삭제(Delete)"
   ]
  },
  {
   "cell_type": "code",
   "execution_count": null,
   "metadata": {},
   "outputs": [],
   "source": [
    "# eventId : 일정을 조회한 후 얻은 id 값을 의미합니다.\n",
    "eventId = updated_event.get('id')\n",
    "service.events().delete(calendarId='primary', eventId=eventId).execute()"
   ]
  },
  {
   "cell_type": "markdown",
   "metadata": {},
   "source": [
    "## 8.4 구현하기"
   ]
  },
  {
   "cell_type": "markdown",
   "metadata": {},
   "source": [
    "## Step 1) 구글 캘린더 일정 조회하기"
   ]
  },
  {
   "cell_type": "code",
   "execution_count": null,
   "metadata": {},
   "outputs": [],
   "source": [
    "### 필요한 라이브러리\n",
    "from google_auth_oauthlib.flow import InstalledAppFlow\n",
    "# 구글 캘린더 API 서비스 객체 생성\n",
    "from googleapiclient.discovery import build\n",
    "import datetime\n",
    "\n",
    "# 구글 클라우드 콘솔에서 다운받은 OAuth 2.0 클라이언트 파일 경로\n",
    "creds_filename = 'res/smart_scheduler/google_token.json' \n",
    "# 사용 권한 지정\n",
    "# https://www.googleapis.com/auth/calendar 캘린더 읽기/쓰기 권한\n",
    "# https://www.googleapis.com/auth/calendar.readonly 캘린더 읽기 권한\n",
    "SCOPES = ['https://www.googleapis.com/auth/calendar']\n",
    "\n",
    "# 파일에 담긴 인증 정보로 구글 서버에 인증하기\n",
    "# 새 창이 열리면서 구글 로그인 및 정보 제공 동의 후 최종 인증이 완료됩니다.\n",
    "flow = InstalledAppFlow.from_client_secrets_file(creds_filename, SCOPES)\n",
    "creds = flow.run_local_server(port=0)\n",
    "\n",
    "### 객체 생성\n",
    "service = build('calendar', 'v3', credentials=creds)"
   ]
  },
  {
   "cell_type": "markdown",
   "metadata": {},
   "source": [
    "## Step 2) 구글 캘린더 일정 조회 및 데이터 정제하기"
   ]
  },
  {
   "cell_type": "code",
   "execution_count": null,
   "metadata": {},
   "outputs": [],
   "source": [
    "# 조회에 사용될 요청 변수 지정\n",
    "calendar_id = 'primary' # 사용할 캘린더 ID\n",
    "today = datetime.date.today().strftime(\"%Y-%m-%d\") # 일정을 조회할 날짜 YYYY-mm-dd 포맷\n",
    "time_min = today + 'T00:00:00+09:00' # 일정을 조회할 최소 날짜\n",
    "time_max = today + 'T23:59:59+09:00' # 일정을 조회할 최대 날짜\n",
    "max_results = 5 # 일정을 조회할 최대 개수\n",
    "is_single_events = True # 반복 일정의 여부\n",
    "orderby = 'startTime' # 일정 정렬\n",
    "\n",
    "# 오늘 일정 가져오기\n",
    "events_result = service.events().list(calendarId = calendar_id,\n",
    "                                      timeMin = time_min,\n",
    "                                      timeMax = time_max,\n",
    "                                      maxResults = max_results,\n",
    "                                      singleEvents = is_single_events,\n",
    "                                      orderBy = orderby).execute()\n",
    "\n",
    "items = events_result.get('items')\n",
    "print(\"===== [일정 목록 출력]=====\")\n",
    "print(items)\n",
    "item = items[0] # 테스트를 위해 오늘 일정에서 한 개만 가져옵니다.\n",
    "\n",
    "# 일정 제목\n",
    "gsummary = item.get('summary')\n",
    "\n",
    "# 일정 제목에서 [식사-국민대]에서 카테고리와 장소를 추출합니다.\n",
    "gcategory, glocation = gsummary[gsummary.index('[')+1 : gsummary.index(']')].split('-')\n",
    "\n",
    "# 구글 캘린더 일정이 연결되어있는 링크입니다.\n",
    "gevent_url = item.get('htmlLink')\n",
    "\n",
    "print(\"\\n\\n===== [일정 상세 정보 출력]=====\")\n",
    "print(\"category : \", gcategory)\n",
    "print(\"location : \", glocation)\n",
    "print(\"event_url : \", gevent_url)"
   ]
  },
  {
   "cell_type": "markdown",
   "metadata": {},
   "source": [
    "## Step 3) 네이버 지역 검색으로 맛집 검색하기"
   ]
  },
  {
   "cell_type": "code",
   "execution_count": null,
   "metadata": {},
   "outputs": [],
   "source": [
    "import requests\n",
    "\n",
    "# 네이버 애플리케이션의 client_id와 client_secret 키 설정\n",
    "headers = {\n",
    "    \"X-Naver-Client-Id\" : \"<네이버 애플리케이션의 Client ID를 입력하세요>\",\n",
    "    \"X-Naver-Client-Secret\" : \"<네이버 애플리케이션의 Client Secret를 입력하세요>\"\n",
    "}\n",
    "\n",
    "# 지역 검색 요청 파라미터 설정\n",
    "query= glocation + \" 맛집\"\n",
    "params = {\n",
    "    \"sort\" : \"comment\",\n",
    "    \"query\" : query,\n",
    "    \"display\" : 3\n",
    "}\n",
    "\n",
    "# 지역 검색 URL과 요청 파라미터\n",
    "naver_local_url = \"https://openapi.naver.com/v1/search/local.json\"\n",
    "\n",
    "# 지역 검색 요청\n",
    "res = requests.get(naver_local_url, headers=headers, params=params)\n",
    "\n",
    "# 지역 검색 결과 확인\n",
    "places = res.json().get('items')\n",
    "print(places)"
   ]
  },
  {
   "cell_type": "markdown",
   "metadata": {},
   "source": [
    "## Step 4) 카카오톡 메시지를 보내기 위한 사전 작업 준비하기"
   ]
  },
  {
   "cell_type": "code",
   "execution_count": null,
   "metadata": {},
   "outputs": [],
   "source": [
    "import json\n",
    "import kakao_utils\n",
    "\n",
    "KAKAO_TOKEN_FILENAME = \"res/kakao_message/kakao_token.json\" \n",
    "KAKAO_APP_KEY = \"<REST_API 앱키를 입력하세요>\" \n",
    "kakao_utils.update_tokens(KAKAO_APP_KEY, KAKAO_TOKEN_FILENAME)"
   ]
  },
  {
   "cell_type": "markdown",
   "metadata": {},
   "source": [
    "## Step 5) 카카오톡 메시지 전송하기"
   ]
  },
  {
   "cell_type": "code",
   "execution_count": null,
   "metadata": {},
   "outputs": [],
   "source": [
    "# 일정 주소 네이버 연결할 링크입니다.\n",
    "gaddr_url = \"https://search.naver.com/search.naver?query=\" + glocation + \" 맛집\"\n",
    "# contents 변수를 초기화 합니다.\n",
    "contents = []\n",
    "\n",
    "# 카카오톡 리스트 템플릿을 작성해봅니다.\n",
    "template = {\n",
    "    \"object_type\" : \"list\",\n",
    "    \"header_title\" : gsummary + \" - 맛집 추천\",\n",
    "    \"header_link\" : {\n",
    "        \"web_url\": gevent_url,\n",
    "        \"mobile_web_url\" : gevent_url\n",
    "    },\n",
    "    \"contents\" : contents,\n",
    "    \"buttons\" : [\n",
    "        {\n",
    "            \"title\" : \"일정 자세히 보기\",\n",
    "            \"link\" : {\n",
    "                \"web_url\": gevent_url,\n",
    "                \"mobile_web_url\" : gevent_url\n",
    "            }\n",
    "        },\n",
    "        {\n",
    "            \"title\" : \"일정 장소 보기\",\n",
    "            \"link\": {\n",
    "                \"web_url\": gaddr_url ,\n",
    "                \"mobile_web_url\": gaddr_url\n",
    "            }\n",
    "        }\n",
    "    ],\n",
    "}\n",
    "\n",
    "\n",
    "# 카카오톡 리스트 템플릿의 contents를 구성합니다.\n",
    "for place in places:\n",
    "    ntitle = place.get('title') # 장소 이름\n",
    "    ncategory = place.get('category') # 장소 카테고리\n",
    "    ntelephone = place.get('telephone') # 장소 전화번호\n",
    "    nlocation = place.get('address') # 장소 지번 주소\n",
    "\n",
    "    # 각 장소를 클릭할 때 네이버 검색으로 연결해주기 위해 작성된 코드\n",
    "    query = nlocation + ' ' + ntitle\n",
    "\n",
    "    # 장소 카테고리가 카페이면 카페 이미지\n",
    "    # 이외에는 음식 이미지\n",
    "    if '카페' in ncategory:\n",
    "        image_url = \"https://freesvg.org/img/pitr_Coffee_cup_icon.png\"\n",
    "    else:\n",
    "        image_url = \"https://freesvg.org/img/bentolunch.png?w=150&h=150&fit=fill\"\n",
    "\n",
    "    # 전화번호가 있다면 제목과 함께 넣어줍니다.\n",
    "    if ntelephone:\n",
    "        ntitle = ntitle + \"\\ntel) \" + ntelephone\n",
    "\n",
    "    # 카카오톡 리스트 템플릿 형식에 맞춰줍니다.\n",
    "    content = {\n",
    "        \"title\": \"[\" + ncategory + \"] \" + ntitle,\n",
    "        \"description\": ' '.join(nlocation.split()[1:]),\n",
    "        \"image_url\": image_url,\n",
    "        \"image_width\": 50, \"image_height\": 50,\n",
    "        \"link\": {\n",
    "            \"web_url\": \"https://search.naver.com/search.naver?query=\" + query,\n",
    "            \"mobile_web_url\": \"https://search.naver.com/search.naver?query=\" + query\n",
    "        }\n",
    "    }\n",
    "    contents.append(content)\n",
    "\n",
    "# 카카오톡 메시지 전송\n",
    "res = kakao_utils.send_message(KAKAO_TOKEN_FILENAME, template)\n",
    "if res.json().get('result_code') == 0:\n",
    "    print('일정 맞춤 맛집을 성공적으로 보냈습니다.')\n",
    "else:\n",
    "    print('일정 맞춤 맛집을 성공적으로 보내지 못했습니다. 오류메시지 : ', res.json())"
   ]
  },
  {
   "cell_type": "code",
   "execution_count": null,
   "metadata": {},
   "outputs": [],
   "source": []
  }
 ],
 "metadata": {
  "kernelspec": {
   "display_name": "Python 3",
   "language": "python",
   "name": "python3"
  },
  "language_info": {
   "codemirror_mode": {
    "name": "ipython",
    "version": 3
   },
   "file_extension": ".py",
   "mimetype": "text/x-python",
   "name": "python",
   "nbconvert_exporter": "python",
   "pygments_lexer": "ipython3",
   "version": "3.7.9"
  }
 },
 "nbformat": 4,
 "nbformat_minor": 4
}
