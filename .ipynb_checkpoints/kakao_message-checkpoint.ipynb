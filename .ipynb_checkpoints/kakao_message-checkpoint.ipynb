{
 "cells": [
  {
   "cell_type": "markdown",
   "metadata": {
    "id": "xKuJQhVeHq8m"
   },
   "source": [
    "# 2장. 나에게 카카오톡 메시지 보내기 프로젝트"
   ]
  },
  {
   "cell_type": "markdown",
   "metadata": {
    "id": "YxJInnfzHq8r"
   },
   "source": [
    "## 2.2.2 카카오톡 메시지 API 사용 권한받기(인증 코드와 사용자 토큰 발급)"
   ]
  },
  {
   "cell_type": "markdown",
   "metadata": {
    "id": "vEZoliC9Hq8u"
   },
   "source": [
    "- 인증 코드 발급 받기(인증 코드 받기)\n",
    "    - https://developers.kakao.com/docs/latest/ko/kakaologin/rest-api#request-code\n",
    "- 사용자 토큰 발급 받기(사용자 토큰 받기)\n",
    "    - https://developers.kakao.com/docs/latest/ko/kakaologin/rest-api#request-token"
   ]
  },
  {
   "cell_type": "markdown",
   "metadata": {
    "id": "loe5wKuMHq8v"
   },
   "source": [
    "- https://kauth.kakao.com/oauth/authorize?client_id=<REST_API 앱 키를 입력하세요> \n",
    "&response_type=code&redirect_uri=https://localhost.com"
   ]
  },
  {
   "cell_type": "code",
   "execution_count": null,
   "metadata": {
    "id": "U2xoFeNzHq8w"
   },
   "outputs": [],
   "source": [
    "import requests\n",
    "\n",
    "url = \"https://kauth.kakao.com/oauth/token\"\n",
    "\n",
    "data = {\n",
    "    \"grant_type\" : \"authorization_code\",\n",
    "    \"client_id\" : \"<REST_API 앱 키를 입력하세요>\",\n",
    "    \"redirect_uri\" : \"https://localhost.com\",\n",
    "    \"code\" : \"<발급받은 code를 입력하세요>\"\n",
    "}\n",
    "\n",
    "response = requests.post(url, data=data)\n",
    "\n",
    "# 요청에 실패했다면,\n",
    "if response.status_code != 200:\n",
    "    print(\"error! because \", response.json())\n",
    "else: # 성공했다면,\n",
    "    tokens = response.json()\n",
    "    print(tokens)"
   ]
  },
  {
   "cell_type": "markdown",
   "metadata": {
    "id": "n_bn9sAyHq8x"
   },
   "source": [
    "## 2.2.3 token 관리하기"
   ]
  },
  {
   "cell_type": "code",
   "execution_count": null,
   "metadata": {
    "id": "2qyH_0RUHq8y"
   },
   "outputs": [],
   "source": [
    "import json\n",
    "import requests\n",
    "import datetime\n",
    "import os\n",
    "\n",
    "# 카카오 토큰을 저장할 파일명\n",
    "KAKAO_TOKEN_FILENAME = \"res/kakao_message/kakao_token.json\"\n",
    "\n",
    "# 저장하는 함수\n",
    "def save_tokens(filename, tokens):\n",
    "    with open(filename, \"w\") as fp:\n",
    "        json.dump(tokens, fp)\n",
    "\n",
    "# 읽어오는 함수\n",
    "def load_tokens(filename):\n",
    "    with open(filename) as fp:\n",
    "        tokens = json.load(fp)\n",
    "\n",
    "    return tokens\n",
    "\n",
    "# refresh_token으로 access_token 갱신하는 함수\n",
    "def update_tokens(app_key, filename) :\n",
    "    tokens = load_tokens(filename)\n",
    "\n",
    "    url = \"https://kauth.kakao.com/oauth/token\"\n",
    "    data = {\n",
    "        \"grant_type\" : \"refresh_token\",\n",
    "        \"client_id\" : app_key,\n",
    "        \"refresh_token\" : tokens['refresh_token']\n",
    "    }\n",
    "    response = requests.post(url, data=data)\n",
    "\n",
    "    # 요청에 실패했다면,\n",
    "    if response.status_code != 200:\n",
    "        print(\"error! because \", response.json())\n",
    "        tokens = None\n",
    "    else: # 성공했다면,\n",
    "        print(response.json())\n",
    "        # 기존 파일 백업\n",
    "        now = datetime.datetime.now().strftime(\"%Y%m%d_%H%M%S\")\n",
    "        backup_filename = filename+\".\"+ now\n",
    "        os.rename(filename, backup_filename)\n",
    "        # 갱신된 토큰 저장\n",
    "        tokens['access_token'] = response.json()['access_token']\n",
    "        save_tokens(filename, tokens)\n",
    "        \n",
    "    return tokens\n",
    "\n",
    "# 토큰 저장\n",
    "save_tokens(KAKAO_TOKEN_FILENAME, tokens)\n",
    "\n",
    "# 토큰 업데이트 -> 토큰 저장 필수!\n",
    "#KAKAO_APP_KEY = \"<REST_API 앱키를 입력하세요>\"\n",
    "#tokens = update_tokens(KAKAO_APP_KEY, KAKAO_TOKEN_FILENAME)\n",
    "#save_tokens(KAKAO_TOKEN_FILENAME, tokens)"
   ]
  },
  {
   "cell_type": "markdown",
   "metadata": {
    "id": "Q1OHDX3yHq82"
   },
   "source": [
    "# 2.4 구현하기"
   ]
  },
  {
   "cell_type": "markdown",
   "metadata": {
    "id": "tniQQZWxHq82"
   },
   "source": [
    "## Step 1) 텍스트 메시지 템플릿을 사용하여 카카오톡 메시지 보내기"
   ]
  },
  {
   "cell_type": "code",
   "execution_count": null,
   "metadata": {
    "id": "0zN7T0nxHq83"
   },
   "outputs": [],
   "source": [
    "import json\n",
    "import requests\n",
    "\n",
    "# 저장된 토큰 정보를 읽어 옴\n",
    "tokens = load_tokens(KAKAO_TOKEN_FILENAME)\n",
    "\n",
    "# 텍스트 메시지 url\n",
    "url = \"https://kapi.kakao.com/v2/api/talk/memo/default/send\"\n",
    "\n",
    "# request parameter 설정\n",
    "headers = {\n",
    "    \"Authorization\": \"Bearer \" + tokens['access_token']\n",
    "}\n",
    "\n",
    "\n",
    "data = {\n",
    "    \"template_object\" : json.dumps({ \"object_type\" : \"text\",\n",
    "                                     \"text\" : \"Hello, world!\",\n",
    "                                     \"link\" : {\n",
    "                                         \"web_url\" : \"www.naver.com\"\n",
    "                                     }\n",
    "                                     })\n",
    "}\n",
    "\n",
    "# 나에게 카카오톡 메시지 보내기 요청 (text)\n",
    "response = requests.post(url, headers=headers, data=data)\n",
    "print(response.status_code)\n",
    "\n",
    "# 요청에 실패했다면,\n",
    "if response.status_code != 200:\n",
    "    print(\"error! because \", response.json())\n",
    "else: # 성공했다면,\n",
    "    print('메시지를 성공적으로 보냈습니다.')"
   ]
  },
  {
   "cell_type": "markdown",
   "metadata": {
    "id": "pYmyvNI9Hq84"
   },
   "source": [
    "## Step 2) 리스트 메시지 템플릿을 사용하여 카카오톡 메시지 보내기"
   ]
  },
  {
   "cell_type": "code",
   "execution_count": null,
   "metadata": {
    "id": "r374KttbHq85"
   },
   "outputs": [],
   "source": [
    "import json\n",
    "import requests\n",
    "\n",
    "# 저장된 토큰 정보를 읽어옴\n",
    "tokens = load_tokens(KAKAO_TOKEN_FILENAME)\n",
    "\n",
    "# 리스트 메시지 url\n",
    "url = \"https://kapi.kakao.com/v2/api/talk/memo/default/send\"\n",
    "\n",
    "# request parameter 설정\n",
    "headers = {\n",
    "    \"Authorization\": \"Bearer \" + tokens['access_token']\n",
    "}\n",
    "\n",
    "template = {\n",
    "    \"object_type\" : \"list\",\n",
    "    \"header_title\" : \"초밥 사진\",\n",
    "    \"header_link\" : {\n",
    "        \"web_url\" : \"www.naver.com\",\n",
    "        \"mobile_web_url\" : \"www.naver.com\"\n",
    "    },\n",
    "    \"contents\" : [\n",
    "        {\n",
    "            \"title\" : \"1. 광어초밥\",\n",
    "            \"description\" : \"광어는 맛있다\",\n",
    "            \"image_url\" : \"https://search1.kakaocdn.net/argon/0x200_85_hr/8x5qcdbcQwi\",\n",
    "            \"image_width\" : 50, \"image_height\" : 50,\n",
    "            \"link\" : {\n",
    "                \"web_url\" : \"www.naver.com\",\n",
    "                \"mobile_web_url\" : \"www.naver.com\"\n",
    "            }\n",
    "        },\n",
    "        {\n",
    "            \"title\" : \"2. 참치초밥\",\n",
    "            \"description\" : \"참치는 맛있다\",\n",
    "            \"image_url\" : \"https://search2.kakaocdn.net/argon/0x200_85_hr/IjIToH1S7J1\",\n",
    "            \"image_width\" : 50, \"image_height\" : 50,\n",
    "            \"link\" : {\n",
    "                \"web_url\" : \"www.naver.com\",\n",
    "                \"mobile_web_url\" : \"www.naver.com\"\n",
    "            }\n",
    "        }\n",
    "\n",
    "    ],\n",
    "    \"buttons\" : [\n",
    "        {\n",
    "            \"title\" : \"웹으로 이동\",\n",
    "            \"link\" : {\n",
    "                \"web_url\" : \"www.naver.com\",\n",
    "                \"mobile_web_url\" : \"www.naver.com\"\n",
    "            }\n",
    "        }\n",
    "    ]\n",
    "\n",
    "}\n",
    "\n",
    "data = {\n",
    "    \"template_object\" : json.dumps(template)\n",
    "}\n",
    "\n",
    "# 나에게 카카오톡 메시지 보내기 요청(list)\n",
    "res = requests.post(url, data=data, headers=headers)\n",
    "print(response.status_code)\n",
    "\n",
    "# 요청에 실패했다면,\n",
    "if response.status_code != 200:\n",
    "    print(\"error! because \", response.json())\n",
    "else: # 성공했다면,\n",
    "    print('메시지를 성공적으로 보냈습니다.')"
   ]
  }
 ],
 "metadata": {
  "colab": {
   "name": "kakao_message.ipynb",
   "provenance": []
  },
  "kernelspec": {
   "display_name": "Python 3",
   "language": "python",
   "name": "python3"
  },
  "language_info": {
   "codemirror_mode": {
    "name": "ipython",
    "version": 3
   },
   "file_extension": ".py",
   "mimetype": "text/x-python",
   "name": "python",
   "nbconvert_exporter": "python",
   "pygments_lexer": "ipython3",
   "version": "3.7.6"
  }
 },
 "nbformat": 4,
 "nbformat_minor": 1
}
