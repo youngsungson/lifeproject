{
 "cells": [
  {
   "cell_type": "markdown",
   "metadata": {},
   "source": [
    "# 11장 인공지능 비서, 자비스 프로젝트"
   ]
  },
  {
   "cell_type": "markdown",
   "metadata": {},
   "source": [
    "## 11.1 학습목표 \n",
    "- 마크 저커버그의 자비스 영상 : https://youtu.be/ZGLPxEv_EWo "
   ]
  },
  {
   "cell_type": "markdown",
   "metadata": {},
   "source": [
    "## 11.2 사전 준비 하기\n",
    "- SpeechRecognition 라이브러리 문서 : https://pypi.org/project/SpeechRecognition/\n",
    "- pyaudio wheel 파일 다운 : www.lfd.uci.edu/~gohlke/pythonlibs/#pyaudio"
   ]
  },
  {
   "cell_type": "markdown",
   "metadata": {},
   "source": [
    "- !pip install SpeechRecognition\n",
    "- !pip install <다운로드받은 .whl 파일명>"
   ]
  },
  {
   "cell_type": "markdown",
   "metadata": {},
   "source": [
    "## 11.3 사전 지식 쌓기"
   ]
  },
  {
   "cell_type": "markdown",
   "metadata": {},
   "source": [
    "### 11.3.1 음성인식(STT) 하기"
   ]
  },
  {
   "cell_type": "code",
   "execution_count": null,
   "metadata": {},
   "outputs": [],
   "source": [
    "import requests\n",
    "import json\n",
    "\n",
    "# 함수 정의부\n",
    "def kakao_stt(app_key, stype, data):\n",
    "    if stype == 'file':\n",
    "        filename = data\n",
    "        with open(filename, \"rb\") as fp:\n",
    "            audio = fp.read()\n",
    "    else:\n",
    "        audio =data\n",
    "\n",
    "    headers = {\n",
    "        \"Content-Type\": \"application/octet-stream\",\n",
    "        \"Authorization\": \"KakaoAK \" + app_key,\n",
    "    }\n",
    "\n",
    "    # 카카오 음성 url\n",
    "    kakao_speech_url = \"https://kakaoi-newtone-openapi.kakao.com/v1/recognize\"\n",
    "    # 카카오 음성 api 요청\n",
    "    res = requests.post(kakao_speech_url, headers=headers, data=audio)\n",
    "    # 요청에 실패했다면,\n",
    "    if res.status_code != 200:\n",
    "        text=\"\"\n",
    "        print(\"error! because \", res.json())\n",
    "    else: # 성공했다면,\n",
    "        #print(\"음성인식 결과 : \", res.text)\n",
    "        #print(\"시작위치 : \", res.text.index('{\"type\":\"finalResult\"'))\n",
    "        #print(\"종료위치 : \", res.text.rindex('}')+1)\n",
    "        #print(\"추출한 정보 : \", res.text[res.text.index('{\"type\":\"finalResult\"'):res.text.rindex('}')+1])\n",
    "        result = res.text[res.text.index('{\"type\":\"finalResult\"'):res.text.rindex('}')+1]\n",
    "        text = json.loads(result).get('value')\n",
    "\n",
    "    return text\n",
    "\n",
    "# 함수 호출부\n",
    "KAKAO_APP_KEY = \"<REST_API 앱키를 입력하세요>\"\n",
    "AUDIO_FILE = \"res/jarvis/hello.wav\"\n",
    "text = kakao_stt(KAKAO_APP_KEY, \"file\", AUDIO_FILE)\n",
    "print(text)"
   ]
  },
  {
   "cell_type": "markdown",
   "metadata": {},
   "source": [
    "## 11.3.2 마이크(mic)로 음성 수집하기"
   ]
  },
  {
   "cell_type": "code",
   "execution_count": null,
   "metadata": {},
   "outputs": [],
   "source": [
    "import speech_recognition as sr\n",
    "\n",
    "# 함수 정의부\n",
    "def get_speech():\n",
    "    # 마이크에서 음성을 추출하는 객체\n",
    "    recognizer = sr.Recognizer()\n",
    "\n",
    "    # 마이크 설정\n",
    "    microphone = sr.Microphone(sample_rate=16000)\n",
    "\n",
    "    # 마이크 소음 수치 반영\n",
    "    with microphone as source:\n",
    "        recognizer.adjust_for_ambient_noise(source)\n",
    "        print(\"소음 수치 반영하여 음성을 청취합니다. {}\".format(recognizer.energy_threshold))\n",
    "\n",
    "    # 음성 수집\n",
    "    with microphone as source:\n",
    "        print(\"Say something!\")\n",
    "        result = recognizer.listen(source)\n",
    "        audio = result.get_raw_data()\n",
    "\n",
    "    return audio\n",
    "\n",
    "# 함수 호출부\n",
    "audio = get_speech()\n",
    "text = kakao_stt(KAKAO_APP_KEY, \"stream\", audio)\n",
    "print(\"음성 인식 결과 : \" + text)"
   ]
  },
  {
   "cell_type": "markdown",
   "metadata": {},
   "source": [
    "# 11.4 구현하기"
   ]
  },
  {
   "cell_type": "markdown",
   "metadata": {},
   "source": [
    "## Step1) 구현 코드 정리 하기 - '날씨'"
   ]
  },
  {
   "cell_type": "code",
   "execution_count": null,
   "metadata": {},
   "outputs": [],
   "source": [
    "# 정상 동작 확인용\n",
    "import jarvis_food_recommender\n",
    "jarvis_food_recommender.do()"
   ]
  },
  {
   "cell_type": "markdown",
   "metadata": {},
   "source": [
    "## Step2) 구현 코드 정리하기 - '주식'"
   ]
  },
  {
   "cell_type": "code",
   "execution_count": null,
   "metadata": {},
   "outputs": [],
   "source": [
    "# 정상 동작 확인용\n",
    "import jarvis_stock_report\n",
    "jarvis_stock_report.do()"
   ]
  },
  {
   "cell_type": "markdown",
   "metadata": {},
   "source": [
    "## Step3) 자비스 프로젝트"
   ]
  },
  {
   "cell_type": "code",
   "execution_count": null,
   "metadata": {},
   "outputs": [],
   "source": [
    "import jarvis_food_recommender\n",
    "import jarvis_stock_report\n",
    "\n",
    "KAKAO_APP_KEY = \"<REST_API 앱키를 입력하세요>\"\n",
    "\n",
    "KEYWORD_STOCK = '주식'\n",
    "KEYWORD_WEATHER = '날씨'\n",
    "\n",
    "# 음성 수집\n",
    "audio = get_speech()\n",
    "\n",
    "# STT\n",
    "command = kakao_stt(KAKAO_APP_KEY, \"stream\", audio)\n",
    "print(\"명령어 : \" + command)\n",
    "print('명령을 수행합니다.')\n",
    "\n",
    "# 음성 분석\n",
    "if KEYWORD_WEATHER in command:\n",
    "    print('날씨를 파악하여 맛집을 추천합니다.')\n",
    "    jarvis_food_recommender.do()\n",
    "elif KEYWORD_STOCK in command:\n",
    "    print('주식 보고서를 메일로 전송합니다.')\n",
    "    jarvis_stock_report.do()\n",
    "else:\n",
    "    print('명령을 알 수 없습니다.')"
   ]
  }
 ],
 "metadata": {
  "kernelspec": {
   "display_name": "Python 3",
   "language": "python",
   "name": "python3"
  },
  "language_info": {
   "codemirror_mode": {
    "name": "ipython",
    "version": 3
   },
   "file_extension": ".py",
   "mimetype": "text/x-python",
   "name": "python",
   "nbconvert_exporter": "python",
   "pygments_lexer": "ipython3",
   "version": "3.7.9"
  }
 },
 "nbformat": 4,
 "nbformat_minor": 4
}
